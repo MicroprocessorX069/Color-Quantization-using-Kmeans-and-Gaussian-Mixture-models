{
  "nbformat": 4,
  "nbformat_minor": 0,
  "metadata": {
    "colab": {
      "name": "Copy of Project2.3.ipynb",
      "version": "0.3.2",
      "provenance": [],
      "collapsed_sections": [],
      "toc_visible": true,
      "include_colab_link": true
    },
    "kernelspec": {
      "name": "python2",
      "display_name": "Python 2"
    }
  },
  "cells": [
    {
      "cell_type": "markdown",
      "metadata": {
        "id": "view-in-github",
        "colab_type": "text"
      },
      "source": [
        "<a href=\"https://colab.research.google.com/github/MicroprocessorX069/Color-Quantization-using-Kmeans-and-Gaussian-Mixture-models/blob/master/Copy_of_Project2_3.ipynb\" target=\"_parent\"><img src=\"https://colab.research.google.com/assets/colab-badge.svg\" alt=\"Open In Colab\"/></a>"
      ]
    },
    {
      "metadata": {
        "id": "jnlYLDlc1RMY",
        "colab_type": "text"
      },
      "cell_type": "markdown",
      "source": [
        "##Functions"
      ]
    },
    {
      "metadata": {
        "id": "vqUwgW7XuZTh",
        "colab_type": "code",
        "colab": {}
      },
      "cell_type": "code",
      "source": [
        "import numpy as np\n",
        "# Calculating th eeuclidean distance between two points x and y with same dimensions n.\n",
        "def EucDistance(x,y):\n",
        "  sum=0\n",
        "  for i in range(len(x)):\n",
        "    sum=sum+pow((x[i]-y[i]),2)\n",
        "  distance=pow(sum,0.5)\n",
        "  return(distance)\n",
        "\n",
        "\n",
        "def kmeans(data_pts,means):\n",
        "  \n",
        "  no_clusters=len(means)\n",
        "  clusters=[]\n",
        "  cluster_index=[]\n",
        "  for j in range(no_clusters):\n",
        "    clusters.append([])\n",
        "  #clusters=np.array(clusters)\n",
        "  #print(clusters.shape)\n",
        "  for pt in data_pts:\n",
        "    nearest_mean=means[0]\n",
        "    nearest_mean_index=0\n",
        "    min_distance=EucDistance(pt,nearest_mean)\n",
        "    for i in range(len(means)):\n",
        "      if(EucDistance(pt,means[i])<min_distance):\n",
        "        min_distance=EucDistance(pt,means[i])\n",
        "        nearest_mean=means[i]\n",
        "        nearest_mean_index=i\n",
        "    clusters[nearest_mean_index].append(pt)\n",
        "    cluster_index.append(nearest_mean_index)\n",
        "  i=0\n",
        "  means=np.array(means)\n",
        "  for cluster in clusters:\n",
        "    temp=np.array(cluster)\n",
        "    means[i,0]=np.average(temp[:,0])\n",
        "    means[i,1]=np.average(temp[:,1])\n",
        "    i+=1\n",
        "  return cluster_index,means.tolist() \n",
        " "
      ],
      "execution_count": 0,
      "outputs": []
    },
    {
      "metadata": {
        "id": "8KVN7VnyEnm0",
        "colab_type": "code",
        "colab": {}
      },
      "cell_type": "code",
      "source": [
        "import matplotlib.pyplot as plt\n",
        "import random as r\n",
        "\n",
        "def kmeansImg(img,no_clusters,means,outputImgName):\n",
        "  for x in range(0,15):\n",
        "    new_img=np.zeros((img.shape))\n",
        "    clusters=[]\n",
        "    for d in range(0,no_clusters):\n",
        "      clusters.append([]) \n",
        "    cluster_colors=np.array(means).astype(int)\n",
        "    #for color in range(no_clusters):\n",
        "    #  cluster_colors.append([r.randint(0,254),r.randint(0,254),r.randint(0,254)])\n",
        "    for i in range(0,img.shape[0]):\n",
        "      for j in range(0,img.shape[1]):\n",
        "        min_distance=EucDistance(img[i,j,:],means[0])\n",
        "        #print(img[i,j,:])\n",
        "        cluster_index=0\n",
        "        for k in range(0,no_clusters):\n",
        "          curr_distance=EucDistance(img[i,j,:],means[k])\n",
        "          #print(means[k])\n",
        "          if curr_distance<min_distance:\n",
        "            min_distance=curr_distance\n",
        "            cluster_index=k\n",
        "\n",
        "        clusters[cluster_index].append(img[i,j,:])\n",
        "        new_img[i,j]=cluster_colors[cluster_index]\n",
        "\n",
        "    #upadation of means/ centroids of the clusters.\n",
        "    \n",
        "    for g in range(0,no_clusters):\n",
        "      temp=[]\n",
        "      temp1=np.average(np.array(np.array(clusters)[g])[:,0])\n",
        "      temp2=np.average(np.array(np.array(clusters)[g])[:,1])\n",
        "      temp3=np.average(np.array(np.array(clusters)[g])[:,2])\n",
        "\n",
        "      means[g]=[temp1,temp2,temp3]\n",
        "  cv2.imwrite(outputImgName,new_img)\n",
        "  return means\n",
        "      "
      ],
      "execution_count": 0,
      "outputs": []
    },
    {
      "metadata": {
        "id": "LjWaQDNUzfZF",
        "colab_type": "text"
      },
      "cell_type": "markdown",
      "source": [
        "##3.1"
      ]
    },
    {
      "metadata": {
        "id": "ZYUQqWKMzXMk",
        "colab_type": "code",
        "colab": {}
      },
      "cell_type": "code",
      "source": [
        "import numpy as np\n",
        "import matplotlib.pyplot as plt\n",
        "#3.1\n",
        "data_pts=[[5.9, 3.2],[4.6, 2.9],[6.2, 2.8],[4.7, 3.2],[5.5, 4.2],[5.0, 3.0],[4.9, 3.1],[6.7, 3.1],[5.1, 3.8],[6.0, 3.0]]\n",
        "#data_pts.shape\n",
        "means=[[6.2, 3.2],[6.6, 3.7],[6.5, 3.0]]\n",
        "cluster_index,means=kmeans(data_pts,means)\n",
        "data_pts1=np.array(data_pts)\n",
        "LABEL_COLOR_MAP = {0 : 'r', 1 : 'g',2 : 'b'}\n",
        "graph=plt.scatter(data_pts1[:,0], data_pts1[:,1], c=[LABEL_COLOR_MAP[l] for l in cluster_index],marker='^')\n",
        "plt.savefig(\"task3_iter1_a.jpg\")\n",
        "plt.close()"
      ],
      "execution_count": 0,
      "outputs": []
    },
    {
      "metadata": {
        "id": "vfE7j1cazhFs",
        "colab_type": "text"
      },
      "cell_type": "markdown",
      "source": [
        "##3.2"
      ]
    },
    {
      "metadata": {
        "id": "elWhFrPbzX8s",
        "colab_type": "code",
        "colab": {}
      },
      "cell_type": "code",
      "source": [
        "#3.2\n",
        "print(\"For iteration 1 means are:\",means)\n",
        "means1=np.array(means)\n",
        "LABEL_COLOR_MAP = {0 : 'r', 1 : 'g',2 : 'b'}\n",
        "mean_index=[0,1,2]\n",
        "graph=plt.scatter(means1[:,0], means1[:,1], c=[LABEL_COLOR_MAP[l] for l in mean_index])\n",
        "plt.savefig(\"task3_iter1_b.jpg\")\n",
        "plt.close()"
      ],
      "execution_count": 0,
      "outputs": []
    },
    {
      "metadata": {
        "id": "GzaGnsC6ziZl",
        "colab_type": "text"
      },
      "cell_type": "markdown",
      "source": [
        "##3.3"
      ]
    },
    {
      "metadata": {
        "id": "TPZ4C8JizbXF",
        "colab_type": "code",
        "colab": {}
      },
      "cell_type": "code",
      "source": [
        "#3.3\n",
        "cluster_index,means=kmeans(data_pts,means)\n",
        "print(\"For iteration 2 means are:\",means)\n",
        "means2=np.array(means)\n",
        "LABEL_COLOR_MAP = {0 : 'r', 1 : 'g',2 : 'b'}\n",
        "graph=plt.scatter(means2[:,0], means2[:,1], c=[LABEL_COLOR_MAP[l] for l in mean_index])\n",
        "plt.savefig(\"task3_iter2_b.jpg\")\n",
        "plt.close()\n",
        "\n",
        "data_pts2=np.array(data_pts)\n",
        "LABEL_COLOR_MAP = {0 : 'r', 1 : 'g',2 : 'b'}\n",
        "graph=plt.scatter(data_pts2[:,0], data_pts2[:,1], c=[LABEL_COLOR_MAP[l] for l in cluster_index],marker='^')\n",
        "plt.savefig(\"task3_iter2_a.jpg\")\n",
        "plt.close()"
      ],
      "execution_count": 0,
      "outputs": []
    },
    {
      "metadata": {
        "id": "qMSfOuEKzjlN",
        "colab_type": "text"
      },
      "cell_type": "markdown",
      "source": [
        "##3.4 Color Quantization"
      ]
    },
    {
      "metadata": {
        "id": "PYXzj4htGz9j",
        "colab_type": "code",
        "colab": {
          "base_uri": "https://localhost:8080/",
          "height": 54
        },
        "outputId": "aa8ec718-f1b3-411d-f850-c16070f52b69"
      },
      "cell_type": "code",
      "source": [
        "import cv2\n",
        "img=cv2.imread('baboon.jpg')\n",
        "# for 3 clusters\n",
        "no_clusters=3\n",
        "means=[]\n",
        "for mean in range(no_clusters):\n",
        "  means.append([r.randint(0,255),r.randint(0,255),r.randint(0,255)])\n",
        "means=kmeansImg(img,no_clusters,means,\"task3_baboon_3.jpg\")\n",
        "print(\"Updated mean:\", means)\n"
      ],
      "execution_count": 32,
      "outputs": [
        {
          "output_type": "stream",
          "text": [
            "('Updated mean:', [[74.4706763737981, 93.78921920100012, 88.0871251815491], [70.19268183324562, 112.59923582275766, 212.56999434664795], [175.22911788048324, 175.15898335309276, 151.32818608479243]])\n"
          ],
          "name": "stdout"
        }
      ]
    },
    {
      "metadata": {
        "id": "Ra5o6bg-z1LF",
        "colab_type": "code",
        "colab": {
          "base_uri": "https://localhost:8080/",
          "height": 54
        },
        "outputId": "1c2776c0-f31a-49cd-9e85-055a47bc1f15"
      },
      "cell_type": "code",
      "source": [
        "no_clusters=5\n",
        "means=[]\n",
        "for mean in range(no_clusters):\n",
        "  means.append([r.randint(0,255),r.randint(0,255),r.randint(0,255)])\n",
        "means=kmeansImg(img,no_clusters,means,\"task3_baboon_5.jpg\")\n",
        "print(\"Updated mean:\", means)"
      ],
      "execution_count": 20,
      "outputs": [
        {
          "output_type": "stream",
          "text": [
            "('Updated mean:', [[110.25472650837267, 164.04725334084878, 180.52051480776908], [205.03417870630219, 186.66013581401793, 152.52567300696393], [58.852105331769, 85.82906400730022, 229.96933255116673], [115.61836570878151, 131.0452881682453, 116.17320597206614], [58.782763377622885, 76.95283525738765, 74.75011979960793]])\n"
          ],
          "name": "stdout"
        }
      ]
    },
    {
      "metadata": {
        "id": "8aweyc4Yz1z8",
        "colab_type": "code",
        "colab": {
          "base_uri": "https://localhost:8080/",
          "height": 54
        },
        "outputId": "11e642f5-2495-4d67-8197-569b689606d2"
      },
      "cell_type": "code",
      "source": [
        "no_clusters=10\n",
        "means=[]\n",
        "for mean in range(no_clusters):\n",
        "  means.append([r.randint(0,255),r.randint(0,255),r.randint(0,255)])\n",
        "means=kmeansImg(img,no_clusters,means,\"task3_baboon_10.jpg\")\n",
        "print(\"Updated mean:\", means)"
      ],
      "execution_count": 25,
      "outputs": [
        {
          "output_type": "stream",
          "text": [
            "('Updated mean:', [[73.06802533103051, 94.58270581462291, 89.15062751871042], [43.585262659084755, 55.13518819388032, 55.68829542377471], [155.45821537764692, 140.0021515117201, 107.7846223530744], [78.71860041030317, 163.40825165260998, 186.16036015500342], [187.66171219425104, 191.82833422603107, 185.53735940010714], [46.546475760784496, 78.93743381980572, 233.2039500943787], [106.11885991510006, 107.33674088191978, 222.55791388720436], [224.76372981923555, 188.20684421139782, 133.89954463916104], [99.14038145762284, 127.77104964001516, 120.57509157509158], [138.5452496299287, 168.70599515542995, 161.44755080069976]])\n"
          ],
          "name": "stdout"
        }
      ]
    },
    {
      "metadata": {
        "id": "TRxIhqwVz2y2",
        "colab_type": "code",
        "colab": {}
      },
      "cell_type": "code",
      "source": [
        "no_clusters=20\n",
        "means=[]\n",
        "for mean in range(no_clusters):\n",
        "  means.append([r.randint(0,255),r.randint(0,255),r.randint(0,255)])\n",
        "means=kmeansImg(img,no_clusters,means,\"task3_baboon_20.jpg\")\n",
        "print(\"Updated mean:\", means)"
      ],
      "execution_count": 0,
      "outputs": []
    },
    {
      "metadata": {
        "id": "RnsbRErCLhDu",
        "colab_type": "code",
        "colab": {}
      },
      "cell_type": "code",
      "source": [
        "import matplotlib.pyplot as plt\n",
        "plt.imshow(new_img)"
      ],
      "execution_count": 0,
      "outputs": []
    },
    {
      "metadata": {
        "id": "RWXaXHkowbJo",
        "colab_type": "text"
      },
      "cell_type": "markdown",
      "source": [
        "## Citations\n",
        "\n",
        "https://stackoverflow.com/questions/9622163/save-plot-to-image-file-instead-of-displaying-it-using-matplotlib\n",
        "https://matplotlib.org/api/_as_gen/matplotlib.pyplot.scatter.html\n",
        "https://stackoverflow.com/questions/28227340/kmeans-scatter-plot-plot-different-colors-per-cluster"
      ]
    }
  ]
}