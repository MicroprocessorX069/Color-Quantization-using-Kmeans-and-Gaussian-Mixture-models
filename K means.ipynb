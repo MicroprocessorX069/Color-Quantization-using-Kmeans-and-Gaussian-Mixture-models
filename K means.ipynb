{
  "nbformat": 4,
  "nbformat_minor": 0,
  "metadata": {
    "colab": {
      "name": "Project2.3.ipynb",
      "version": "0.3.2",
      "provenance": [],
      "collapsed_sections": [],
      "include_colab_link": true
    },
    "kernelspec": {
      "name": "python2",
      "display_name": "Python 2"
    }
  },
  "cells": [
    {
      "cell_type": "markdown",
      "metadata": {
        "id": "view-in-github",
        "colab_type": "text"
      },
      "source": [
        "<a href=\"https://colab.research.google.com/github/MicroprocessorX069/Color-Quantization-using-Kmeans-and-Gaussian-Mixture-models/blob/master/K%20means.ipynb\" target=\"_parent\"><img src=\"https://colab.research.google.com/assets/colab-badge.svg\" alt=\"Open In Colab\"/></a>"
      ]
    },
    {
      "metadata": {
        "id": "sLTU6oc4sNTS",
        "colab_type": "code",
        "colab": {}
      },
      "cell_type": "code",
      "source": [
        "import numpy as np\n",
        "import matplotlib.pyplot as plt\n",
        "data_pts=[[5.9, 3.2],[4.6, 2.9],[6.2, 2.8],[4.7, 3.2],[5.5, 4.2],[5.0, 3.0],[4.9, 3.1],[6.7, 3.1],[5.1, 3.8],[6.0, 3.0]]\n",
        "#data_pts.shape\n",
        "means=[[6.2, 3.2],[6.6, 3.7],[6.5, 3.0]]\n",
        "cluster_index,means=kmeans(data_pts,means)\n",
        "cluster_index,means=kmeans(data_pts,means)\n",
        "\n",
        "data_pts=np.array(data_pts)\n",
        "LABEL_COLOR_MAP = {0 : 'r', 1 : 'g',2 : 'b'}\n",
        "plt.scatter(data_pts[:,0], data_pts[:,1], c=[LABEL_COLOR_MAP[l] for l in cluster_index])\n",
        "plt.show()"
      ],
      "execution_count": 0,
      "outputs": []
    },
    {
      "metadata": {
        "id": "vqUwgW7XuZTh",
        "colab_type": "code",
        "colab": {}
      },
      "cell_type": "code",
      "source": [
        "import numpy as np\n",
        "def EucDistance(x,y):\n",
        "  sum=0\n",
        "  for i in range(len(x)):\n",
        "    sum=sum+pow((x[i]-y[i]),2)\n",
        "  distance=pow(sum,0.5)\n",
        "  return(distance)\n",
        "\n",
        "def kmeans(data_pts,means):\n",
        "  no_clusters=len(means)\n",
        "  clusters=[]\n",
        "  cluster_index=[]\n",
        "  for j in range(no_clusters):\n",
        "    clusters.append([])\n",
        "  #clusters=np.array(clusters)\n",
        "  #print(clusters.shape)\n",
        "  for pt in data_pts:\n",
        "    nearest_mean=means[0]\n",
        "    nearest_mean_index=0\n",
        "    min_distance=EucDistance(pt,nearest_mean)\n",
        "    for i in range(len(means)):\n",
        "      if(EucDistance(pt,means[i])<min_distance):\n",
        "        min_distance=EucDistance(pt,means[i])\n",
        "        nearest_mean=means[i]\n",
        "        nearest_mean_index=i\n",
        "    clusters[nearest_mean_index].append(pt)\n",
        "    cluster_index.append(nearest_mean_index)\n",
        "  i=0\n",
        "  means=np.array(means)\n",
        "  for cluster in clusters:\n",
        "    temp=np.array(cluster)\n",
        "    means[i,0]=np.average(temp[:,0])\n",
        "    means[i,1]=np.average(temp[:,1])\n",
        "    i+=1\n",
        "  return cluster_index,means.tolist() \n",
        " "
      ],
      "execution_count": 0,
      "outputs": []
    },
    {
      "metadata": {
        "id": "8KVN7VnyEnm0",
        "colab_type": "code",
        "colab": {}
      },
      "cell_type": "code",
      "source": [
        "import matplotlib.pyplot as plt\n",
        "import random as r\n",
        "def getRGBfromI(n):\n",
        "    max_value = 16581375 #255**3\n",
        "    interval = int(max_value / n)\n",
        "    colors = [hex(I)[2:].zfill(6) for I in range(0, max_value, interval)]\n",
        "    \n",
        "    return [(int(i[:2], 16), int(i[2:4], 16), int(i[4:], 16)) for i in colors]\n",
        "\n",
        "def kmeansImg(img,no_clusters,means):\n",
        "  new_img=np.zeros((img.shape))\n",
        "  clusters=[]\n",
        "  for x in range(no_clusters):\n",
        "    clusters.append([]) \n",
        "  cluster_colors=[]  \n",
        "  for color in range(no_clusters):\n",
        "    cluster_colors.append([r.randint(0,254),r.randint(0,254),r.randint(0,254)])\n",
        "  for i in range(img.shape[0]):\n",
        "    for j in range(img.shape[1]):\n",
        "      min_distance=EucDistance(img[i,j,:],means[0])\n",
        "      #print(img[i,j,:])\n",
        "      cluster_index=0\n",
        "      for k in range(no_clusters):\n",
        "        curr_distance=EucDistance(img[i,j,:],means[k])\n",
        "        #print(means[k])\n",
        "        if curr_distance<min_distance:\n",
        "          min_distance=curr_distance\n",
        "          cluster_index=k\n",
        "          \n",
        "      clusters[cluster_index].append(img[i,j,:])\n",
        "      new_img[i,j]=cluster_colors[cluster_index]\n",
        "        \n",
        "  #clusters=np.array(clusters)   \n",
        "  #clusters=np.transpose(clusters)\n",
        "  \n",
        "#   for i in range(no_clusters):\n",
        "#     temp=[]\n",
        "    \n",
        "#     for j in range(0,no_clusters):\n",
        "#       temp.append(np.average(np.array(np.array(clusters)[i])[:,j]))\n",
        "#     #temp1=np.average(np.array(np.array(clusters)[i])[:,0])\n",
        "    \n",
        "#     #temp2=np.average(np.array(np.array(clusters)[i])[:,1])\n",
        "#     #temp3=np.average(np.array(np.array(clusters)[i])[:,2])\n",
        "#     means[i]=temp\n",
        "  return new_img, means\n",
        "      "
      ],
      "execution_count": 0,
      "outputs": []
    },
    {
      "metadata": {
        "id": "PYXzj4htGz9j",
        "colab_type": "code",
        "colab": {}
      },
      "cell_type": "code",
      "source": [
        "import cv2\n",
        "no_clusters=500\n",
        "means=[]\n",
        "for mean in range(no_clusters):\n",
        "  means.append([r.randint(0,255),r.randint(0,255),r.randint(0,255)])\n",
        "\n",
        "img=cv2.imread('baboon.jpg')\n",
        "img=img[0:200,0:200,:]\n",
        "\n",
        "new_img,means=kmeansImg(img,no_clusters,means)\n",
        "#new_img,means=kmeansImg(img,no_clusters,means)\n",
        "#new_img,means=kmeansImg(img,no_clusters,means)"
      ],
      "execution_count": 0,
      "outputs": []
    },
    {
      "metadata": {
        "id": "RnsbRErCLhDu",
        "colab_type": "code",
        "colab": {}
      },
      "cell_type": "code",
      "source": [
        "import matplotlib.pyplot as plt\n",
        "plt.imshow(new_img)"
      ],
      "execution_count": 0,
      "outputs": []
    },
    {
      "metadata": {
        "id": "K7LmDOPURyTm",
        "colab_type": "code",
        "colab": {
          "base_uri": "https://localhost:8080/",
          "height": 68
        },
        "outputId": "217ea379-c98a-48c2-ce22-b74e8e765315"
      },
      "cell_type": "code",
      "source": [
        "means"
      ],
      "execution_count": 209,
      "outputs": [
        {
          "output_type": "execute_result",
          "data": {
            "text/plain": [
              "array([[ 19,  45,  60],\n",
              "       [ 83, 142, 150],\n",
              "       [ 43,  84,  94]])"
            ]
          },
          "metadata": {
            "tags": []
          },
          "execution_count": 209
        }
      ]
    }
  ]
}